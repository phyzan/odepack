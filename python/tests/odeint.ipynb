{
 "cells": [
  {
   "cell_type": "markdown",
   "id": "f607929f",
   "metadata": {},
   "source": [
    "# Solving ODE systems"
   ]
  },
  {
   "cell_type": "markdown",
   "id": "8bf2d4a1",
   "metadata": {},
   "source": [
    "Users can declare a system of Ordinary differential Equations, alongside events that might occur during their numerical integration.\n",
    "\n",
    "An system of ode's is the form dq/dt = F(t, q), q(t0) = q0, where q is an array that represents a system of variables.\n",
    "\n",
    "It can be declared as follows:\n",
    "\n",
    "def f(t, q, *args):\n",
    "    return [dq[0]/dt, dq[1]/dt, ...]\n",
    "\n",
    "where *args can be any extra parameters inside the ode.\n",
    "\n",
    "However it is better to declare the ode using symbolic variables, because:\n",
    "1) It is more intuitive that way\n",
    "2) The expression will compile down to binary code, and a low level integrator will solve the ode up to ~200 times faster than\n",
    "a pure python solver would."
   ]
  },
  {
   "cell_type": "markdown",
   "id": "454a4c72",
   "metadata": {},
   "source": [
    "## Symbolic declaration"
   ]
  },
  {
   "cell_type": "markdown",
   "id": "d04b117f",
   "metadata": {},
   "source": [
    "The second order ODE\n",
    "\n",
    "$$\\ddot{x} = \\mu (1-x^2)\\dot{x} - x$$\n",
    "\n",
    "can be written as a system of first order ODE's as\n",
    "\n",
    "$$\n",
    "\\frac{d}{dt}\n",
    "\\begin{bmatrix}\n",
    "x \\\\ y\n",
    "\\end{bmatrix}\n",
    "=\n",
    "\\begin{bmatrix}\n",
    "y \\\\ \\mu (1-x^2) y - x\n",
    "\\end{bmatrix}\n",
    "$$\n"
   ]
  },
  {
   "cell_type": "code",
   "execution_count": 49,
   "id": "fa86f670",
   "metadata": {},
   "outputs": [],
   "source": [
    "from odepack import *\n",
    "\n",
    "t, x, y, mu = variables('t, x, y, mu')\n",
    "\n",
    "#we declare the event when x=1 during the ode itegration\n",
    "#If we pass it into the solver, every time it is encountered during an integration,\n",
    "#it will be accurately determined using the provided tolerance.\n",
    "ev1 = SymbolicPreciseEvent(\"X=1 event\", x-1, event_tol=1e-20)\n",
    "ev2 = SymbolicPeriodicEvent(\"Periodic Event\", period=100)\n",
    "\n",
    "\n",
    "ode_system = OdeSystem([y, mu*(1 - x**2)*y - x], t, [x, y], args=(mu,), events=[ev1, ev2])"
   ]
  },
  {
   "cell_type": "markdown",
   "id": "605d32d5",
   "metadata": {},
   "source": [
    "## Pythonic declaration\n",
    "\n",
    "The user can define pure python functions. If they are passed into the low level solver, the integration will usually be faster than the equivalent scipy implementation, because the algorithm is precompiled. However, using the given tools that internally compile all symbolic expressions provides maximum efficiency, as it will be demonstrated below."
   ]
  },
  {
   "cell_type": "code",
   "execution_count": 50,
   "id": "c8e10b86",
   "metadata": {},
   "outputs": [],
   "source": [
    "def f_py(t, q, mu):\n",
    "    x, y = q\n",
    "    #we assume q = [x, y], so q[0] is x, and q[1] = y\n",
    "    return [y, mu*(1 - x**2)*y - x]\n",
    "\n",
    "def jac_py(t, q, mu):\n",
    "    x, y = q\n",
    "    return [[0, 1], [-2*mu*x*y - 1, mu*(1-x**2)]]\n",
    "\n",
    "def event_py(t, q, mu):\n",
    "    return q[0] - 1 #x-1 event -> when x-1 == 0, the event is triggered\n",
    "\n",
    "ev1_py = PreciseEvent(\"X=1 event\", event_py, event_tol=1e-20)\n",
    "ev2_py = PeriodicEvent(\"Periodic Event\", period=100)"
   ]
  },
  {
   "cell_type": "markdown",
   "id": "1839d131",
   "metadata": {},
   "source": [
    "## Defining an ODE object"
   ]
  },
  {
   "cell_type": "code",
   "execution_count": 51,
   "id": "fd595b89",
   "metadata": {},
   "outputs": [
    {
     "name": "stdout",
     "output_type": "stream",
     "text": [
      "Only the first .get() call takes longer in order to compile all symbolic expressions\n"
     ]
    }
   ],
   "source": [
    "#first let's define the fully low level ode object, where all internal functions are compiled to low level code\n",
    "ode_lowlevel = ode_system.get(t0=0, q0=[1, 2], rtol=1e-13, atol=1e-13, args=(500,), method=\"BDF\")\n",
    "print(\"Only the first .get() call takes longer in order to compile all symbolic expressions\")"
   ]
  },
  {
   "cell_type": "code",
   "execution_count": 52,
   "id": "d5cfe18b",
   "metadata": {},
   "outputs": [],
   "source": [
    "'''\n",
    "Alternatively, the user can retrieve the callable object that wraps the compiled function, and pass it inside\n",
    "LowLevelODE. This is true for the optional jacobian, and the event objects too. The LowLevelODE internally\n",
    "determines which objects are pure compiled functions, and retrieves the hidden C-style pointer to use that instead\n",
    "of the python wrapper. As a result, there is zero performance loss when comparing to a C++ script that solves the same ODE\n",
    "using the same C++ headers that have been precompiled for this python library.\n",
    "'''\n",
    "\n",
    "events_compiled = ode_system.true_events\n",
    "rhs_compiled = ode_system.lowlevel_odefunc\n",
    "jac_compiled = ode_system.lowlevel_jac #jacobian matrix function\n",
    "\n",
    "ode_test = LowLevelODE(rhs_compiled, t0=0, q0=[1, 2], jac=jac_compiled, rtol=1e-13, atol=1e-13, args=(500,), events = events_compiled, method=\"BDF\")"
   ]
  },
  {
   "cell_type": "code",
   "execution_count": 53,
   "id": "f67ceb84",
   "metadata": {},
   "outputs": [],
   "source": [
    "#now let's define the ode object with pure python functions\n",
    "ode_pythonic = LowLevelODE(f_py, jac=jac_py, t0=0, q0=[1, 2], rtol=1e-13, atol=1e-13, args=(500,), events=[ev1_py, ev2_py], method=\"BDF\")"
   ]
  },
  {
   "cell_type": "markdown",
   "id": "fdb4d10e",
   "metadata": {},
   "source": [
    "## Performing an integration"
   ]
  },
  {
   "cell_type": "code",
   "execution_count": 54,
   "id": "3c1eb995",
   "metadata": {},
   "outputs": [],
   "source": [
    "result_lowlevel = ode_lowlevel.integrate(400)\n",
    "result_test = ode_test.integrate(400)"
   ]
  },
  {
   "cell_type": "code",
   "execution_count": 55,
   "id": "3d922f89",
   "metadata": {},
   "outputs": [],
   "source": [
    "result_pythonic = ode_pythonic.integrate(400)"
   ]
  },
  {
   "cell_type": "code",
   "execution_count": 56,
   "id": "449f7f81",
   "metadata": {},
   "outputs": [],
   "source": [
    "from scipy.integrate import solve_ivp\n",
    "import time\n",
    "\n",
    "ti = time.time()\n",
    "result_scipy = solve_ivp(f_py, (0, 400), [1, 2], jac=jac_py, method=\"BDF\", rtol=1e-13, atol=1e-13, args=(500,))\n",
    "tf = time.time()"
   ]
  },
  {
   "cell_type": "code",
   "execution_count": 57,
   "id": "ee400067",
   "metadata": {},
   "outputs": [
    {
     "name": "stdout",
     "output_type": "stream",
     "text": [
      "Scipy implementation                  : 0.2209177017211914  s integration time\n",
      "LowLevelODE with pure python functions: 0.024159402  s integration time\n",
      "Fully compiled ODE                    : 0.001442357  s integration time\n",
      "Fully compiled test ODE               : 0.001315189  s integration time\n",
      "As expected, the last two cases have the same performanace\n",
      "Speedup                               : x 153.16437034741844\n"
     ]
    }
   ],
   "source": [
    "print(\"Scipy implementation                  :\", tf-ti, \" s integration time\")\n",
    "print(\"LowLevelODE with pure python functions:\", result_pythonic.runtime, \" s integration time\")\n",
    "print(\"Fully compiled ODE                    :\", result_lowlevel.runtime, \" s integration time\")\n",
    "print(\"Fully compiled test ODE               :\", result_test.runtime, \" s integration time\")\n",
    "print(\"As expected, the last two cases have the same performanace\")\n",
    "print(\"Speedup                               : x\", (tf-ti)/result_lowlevel.runtime)"
   ]
  },
  {
   "cell_type": "code",
   "execution_count": 58,
   "id": "7b287d7b",
   "metadata": {},
   "outputs": [
    {
     "data": {
      "text/plain": [
       "((6134,), (6128,))"
      ]
     },
     "execution_count": 58,
     "metadata": {},
     "output_type": "execute_result"
    }
   ],
   "source": [
    "result_lowlevel.t.shape, result_scipy.t.shape"
   ]
  },
  {
   "cell_type": "markdown",
   "id": "4204dd69",
   "metadata": {},
   "source": [
    "## Using ODE objects inside custom classes"
   ]
  },
  {
   "cell_type": "markdown",
   "id": "7b332704",
   "metadata": {},
   "source": [
    "If the user wants to encapsulate custom functions and logic using the provided methods of the LowLevelODE class,\n",
    "they can inherit from the class and pass an ode object in its constructor. Then, the returned object (of the custom class) will\n",
    "hold a perfect copy of the given LowlevelODE object, as follows"
   ]
  },
  {
   "cell_type": "code",
   "execution_count": 59,
   "id": "b29c7220",
   "metadata": {},
   "outputs": [],
   "source": [
    "import matplotlib.pyplot as plt\n",
    "\n",
    "class Orbit(LowLevelODE):\n",
    "\n",
    "    @property\n",
    "    def x(self):\n",
    "        return self.q[:, 0]\n",
    "    \n",
    "    @property\n",
    "    def y(self):\n",
    "        return self.q[:, 1]\n",
    "    \n",
    "    def plot_x(self):\n",
    "        fig, ax = plt.subplots()\n",
    "        ax.plot(self.t, self.x)\n",
    "        ax.set_xlabel(\"t\")\n",
    "        ax.set_ylabel(\"x\")\n",
    "        return fig, ax\n",
    "    \n",
    "    def plot_y(self):\n",
    "        fig, ax = plt.subplots()\n",
    "        ax.plot(self.t, self.y)\n",
    "        ax.set_xlabel(\"t\")\n",
    "        ax.set_ylabel(\"y\")\n",
    "        return fig, ax\n",
    "    \n",
    "    def plot(self):\n",
    "        fig, ax = plt.subplots()\n",
    "        ax.plot(self.x, self.y)\n",
    "        ax.set_xlabel(\"x\")\n",
    "        ax.set_ylabel(\"y\")\n",
    "        return fig, ax\n",
    "    \n",
    "\n",
    "orbit = Orbit(ode_lowlevel) #now ode_lowlevel can even be deleted, orbit created a perfect copy out of it\n",
    "#to test this, see what happens before and after we advance the orbit."
   ]
  },
  {
   "cell_type": "code",
   "execution_count": 60,
   "id": "ef0317ed",
   "metadata": {},
   "outputs": [
    {
     "name": "stdout",
     "output_type": "stream",
     "text": [
      "Before integrating:\n",
      "     ode_lowlevel is at t = 400.0\n",
      "     orbit is at t = 400.0\n",
      "After integrating:\n",
      "     ode_lowlevel is still at t = 400.0\n",
      "     orbit is at t = 10400.0\n",
      "So 'orbit' is completely independent of 'ode_lowlevel', even if it was passed in its constructor. A perfect copy was created.\n"
     ]
    }
   ],
   "source": [
    "print(\"Before integrating:\")\n",
    "print(\"     ode_lowlevel is at t =\", ode_lowlevel.t[-1])\n",
    "print(\"     orbit is at t =\", orbit.t[-1])\n",
    "orbit.integrate(10000)\n",
    "print(\"After integrating:\")\n",
    "print(\"     ode_lowlevel is still at t =\", ode_lowlevel.t[-1])\n",
    "print(\"     orbit is at t =\", orbit.t[-1])\n",
    "print(\"So 'orbit' is completely independent of 'ode_lowlevel', even if it was passed in its constructor. A perfect copy was created.\")"
   ]
  },
  {
   "cell_type": "code",
   "execution_count": 61,
   "id": "ea9cfdea",
   "metadata": {},
   "outputs": [
    {
     "data": {
      "text/plain": [
       "(<Figure size 640x480 with 1 Axes>, <Axes: xlabel='t', ylabel='x'>)"
      ]
     },
     "execution_count": 61,
     "metadata": {},
     "output_type": "execute_result"
    },
    {
     "data": {
      "image/png": "[encoded data removed]",
      "text/plain": [
       "<Figure size 640x480 with 1 Axes>"
      ]
     },
     "metadata": {},
     "output_type": "display_data"
    },
    {
     "data": {
      "image/png": "[encoded data removed]",
      "text/plain": [
       "<Figure size 640x480 with 1 Axes>"
      ]
     },
     "metadata": {},
     "output_type": "display_data"
    }
   ],
   "source": [
    "orbit.plot()\n",
    "orbit.plot_x()"
   ]
  },
  {
   "cell_type": "code",
   "execution_count": 62,
   "id": "942942c2",
   "metadata": {},
   "outputs": [
    {
     "data": {
      "text/plain": [
       "array([1., 1., 1., 1., 1., 1., 1., 1., 1., 1., 1., 1., 1., 1., 1., 1., 1.,\n",
       "       1., 1., 1., 1., 1., 1., 1., 1., 1.])"
      ]
     },
     "execution_count": 62,
     "metadata": {},
     "output_type": "execute_result"
    }
   ],
   "source": [
    "t_event, q_event = orbit.event_data(\"X=1 event\")\n",
    "q_event[:, 0] #this is the \"x\" variable at each event instance. As expected, this returns an array filled with approximately x=1"
   ]
  },
  {
   "cell_type": "code",
   "execution_count": 63,
   "id": "c44403a3",
   "metadata": {},
   "outputs": [
    {
     "data": {
      "text/plain": [
       "array([2.04750436e+00, 4.06078894e+02, 8.09773087e+02, 1.21380448e+03,\n",
       "       1.61749867e+03, 2.02153006e+03, 2.42522425e+03, 2.82925564e+03,\n",
       "       3.23294984e+03, 3.63698123e+03, 4.04067542e+03, 4.44470681e+03,\n",
       "       4.84840100e+03, 5.25243239e+03, 5.65612658e+03, 6.06015797e+03,\n",
       "       6.46385217e+03, 6.86788356e+03, 7.27157775e+03, 7.67560914e+03,\n",
       "       8.07930333e+03, 8.48333472e+03, 8.88702892e+03, 9.29106031e+03,\n",
       "       9.69475450e+03, 1.00987859e+04])"
      ]
     },
     "execution_count": 63,
     "metadata": {},
     "output_type": "execute_result"
    }
   ],
   "source": [
    "#We can also retrieve te exact time of each event:\n",
    "t_event"
   ]
  },
  {
   "cell_type": "code",
   "execution_count": 64,
   "id": "762693ff",
   "metadata": {},
   "outputs": [
    {
     "data": {
      "text/plain": [
       "{'Periodic Event': array([  5568,   5631,   5731,   6134,  10903,  10966,  11066,  11402,\n",
       "         16233,  16295,  16392,  16690,  21573,  21634,  21730,  22000,\n",
       "         26891,  26951,  27043,  27286,  32226,  32285,  32376,  32604,\n",
       "         37569,  37626,  37714,  37927,  42905,  42963,  43051,  43252,\n",
       "         48244,  48300,  48386,  48576,  53570,  53624,  53710,  53891,\n",
       "         58900,  58954,  59034,  59207,  64236,  64290,  64372,  64536,\n",
       "         69579,  69632,  69710,  69866,  74902,  74954,  75033,  75183,\n",
       "         80248,  80300,  80375,  80521,  85585,  85635,  85713,  85854,\n",
       "         90914,  90964,  91036,  91171,  96252,  96302,  96374,  96503,\n",
       "        101595, 101644, 101718, 101847, 106930, 106979, 107047, 107169,\n",
       "        112267, 112316, 112385, 112505, 117601, 117650, 117718, 117834,\n",
       "        122936, 122986, 123055, 123168, 128274, 128325, 128391, 128500,\n",
       "        133614, 133664, 133733, 133839, 138951, 139008, 139070, 139175],\n",
       "       dtype=uint64),\n",
       " 'X=1 event': array([  1581,   9060,  12255,  19739,  22920,  30396,  33588,  41079,\n",
       "         44270,  51754,  54932,  62417,  65609,  73093,  76282,  83772,\n",
       "         86950,  94444,  97638, 105120, 108316, 115799, 118996, 126477,\n",
       "        129671, 137161], dtype=uint64)}"
      ]
     },
     "execution_count": 64,
     "metadata": {},
     "output_type": "execute_result"
    }
   ],
   "source": [
    "#or the indices of the .q and .t arrays that correspond to event\n",
    "orbit.event_map"
   ]
  },
  {
   "cell_type": "code",
   "execution_count": null,
   "id": "ea76252d",
   "metadata": {},
   "outputs": [],
   "source": []
  }
 ],
 "metadata": {
  "kernelspec": {
   "display_name": "Python (myenv)",
   "language": "python",
   "name": "myenv"
  },
  "language_info": {
   "codemirror_mode": {
    "name": "ipython",
    "version": 3
   },
   "file_extension": ".py",
   "mimetype": "text/x-python",
   "name": "python",
   "nbconvert_exporter": "python",
   "pygments_lexer": "ipython3",
   "version": "3.12.3"
  }
 },
 "nbformat": 4,
 "nbformat_minor": 5
}
